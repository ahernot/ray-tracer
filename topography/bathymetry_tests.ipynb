{
 "cells": [
  {
   "cell_type": "code",
   "execution_count": 1,
   "metadata": {},
   "outputs": [],
   "source": [
    "import numpy as np\n",
    "import matplotlib.pyplot as plt\n",
    "from importlib import reload\n",
    "\n",
    "import bathymetry as Bathy"
   ]
  },
  {
   "cell_type": "code",
   "execution_count": 44,
   "metadata": {},
   "outputs": [],
   "source": [
    "reload(Bathy)\n",
    "\n",
    "map_path = '../src/asc/MNT_MED100m_GDL-CA_HOMONIM_WGS84_NM_ZNEG.asc'\n",
    "map = Bathy.Map.from_asc(map_path)"
   ]
  },
  {
   "cell_type": "code",
   "execution_count": 18,
   "metadata": {},
   "outputs": [],
   "source": [
    "# # Plot map\n",
    "# PLOT = np.empty((map.map.shape[0], map.map.shape[1], 3))\n",
    "\n",
    "# array = np.copy(map.map)\n",
    "# array[np.isnan(array)] = 0\n",
    "# array = np.abs(array) / np.amax(np.abs(array))\n",
    "\n",
    "# PLOT[:, :, 0] = np.ones(array.shape) - array\n",
    "# PLOT[:, :, 1] = np.ones(array.shape) - array\n",
    "# PLOT[:, :, 2] = np.ones(array.shape) - array\n",
    "\n",
    "# PLOT[np.isnan(map.map)] = [0.6, 0.3, 0]\n",
    "# plt.imshow(PLOT)"
   ]
  },
  {
   "cell_type": "code",
   "execution_count": 49,
   "metadata": {},
   "outputs": [
    {
     "name": "stdout",
     "output_type": "stream",
     "text": [
      "[           nan            nan            nan            nan\n",
      "  -237.24194835  -493.0578122  -1429.51773024 -1819.23064208\n",
      " -2146.52290705 -2243.54562106 -2354.45274902 -2456.54207739\n",
      " -2536.78333992 -2534.28501725 -2540.1463538  -2517.51924243\n",
      " -2490.2740384  -2483.55440871 -2417.77948035 -2465.67408053\n",
      " -2370.5241465  -2428.8527066  -2420.16561503 -2493.15413567\n",
      " -2486.31796619 -2525.8758135  -2532.44042351 -2562.39939207\n",
      " -2580.51164983 -2620.34563973 -2604.26110757 -2622.80416831\n",
      " -2639.26944553 -2645.45079014 -2677.70337234 -2679.53082357\n",
      " -2691.38874134 -2705.45781526 -2709.28393508 -2730.97867947\n",
      " -2744.7404213  -2751.17513912 -2759.20898297 -2779.79610166\n",
      " -2821.89244421 -2843.90411353 -2839.54840586 -2824.80607129\n",
      " -2808.66763173 -2797.35825033 -2791.41266038 -2787.44096103\n",
      " -2787.21708559 -2772.13011877 -2752.50641691 -2747.6\n",
      " -2747.6        -2747.6        -2747.6        -2747.6\n",
      " -2747.6        -2747.6        -2747.6        -2747.6\n",
      " -2747.6        -2747.6        -2747.6        -2747.6\n",
      " -2747.6        -2747.6        -2747.6        -2747.6\n",
      " -2747.6        -2747.6        -2747.6        -2747.6\n",
      " -2747.6        -2747.6        -2747.6        -2747.6\n",
      " -2747.6        -2747.6        -2747.6        -2747.6\n",
      " -2747.6        -2747.6        -2747.6        -2747.6\n",
      " -2747.6        -2747.6        -2747.6        -2747.6\n",
      " -2747.6        -2747.6        -2747.6        -2747.6\n",
      " -2747.6        -2747.6        -2747.6        -2747.6       ]\n"
     ]
    }
   ],
   "source": [
    "# SLERP\n",
    "\n",
    "EARTH_RADIUS_AVG = 6378000\n",
    "NPOINTS = 100\n",
    "\n",
    "P0_rad = map.llcorner_rad\n",
    "P1_rad = map.urcorner_rad\n",
    "theta_rad = np.arccos(P0_rad.dot(P1_rad) / (EARTH_RADIUS_AVG**2))\n",
    "\n",
    "points = np.linspace(0, 1, NPOINTS)\n",
    "u = np.sin(theta_rad * (1 - points))\n",
    "v = np.sin(theta_rad * points)\n",
    "\n",
    "P_rad = (P0_rad * np.tile(u,(2,1)).T + P1_rad * np.tile(v,(2,1)).T) / np.sin(theta_rad)\n",
    "P_deg = np.rad2deg(P_rad)\n",
    "\n",
    "z_map = map.z_rad(P_rad[:,0], P_rad[:,1])\n",
    "z_map = map.z_deg(P_deg[:,0], P_deg[:,1])\n",
    "\n",
    "print(z_map)"
   ]
  },
  {
   "cell_type": "code",
   "execution_count": null,
   "metadata": {},
   "outputs": [],
   "source": []
  }
 ],
 "metadata": {
  "kernelspec": {
   "display_name": "Python 3.9.0 64-bit",
   "language": "python",
   "name": "python3"
  },
  "language_info": {
   "codemirror_mode": {
    "name": "ipython",
    "version": 3
   },
   "file_extension": ".py",
   "mimetype": "text/x-python",
   "name": "python",
   "nbconvert_exporter": "python",
   "pygments_lexer": "ipython3",
   "version": "3.9.0"
  },
  "orig_nbformat": 4,
  "vscode": {
   "interpreter": {
    "hash": "397704579725e15f5c7cb49fe5f0341eb7531c82d19f2c29d197e8b64ab5776b"
   }
  }
 },
 "nbformat": 4,
 "nbformat_minor": 2
}
