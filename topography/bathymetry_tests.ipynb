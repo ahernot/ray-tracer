{
 "cells": [
  {
   "cell_type": "code",
   "execution_count": 1,
   "metadata": {},
   "outputs": [],
   "source": [
    "import numpy as np\n",
    "import matplotlib.pyplot as plt\n",
    "from importlib import reload\n",
    "\n",
    "import bathymetry as Bathy"
   ]
  },
  {
   "cell_type": "code",
   "execution_count": 21,
   "metadata": {},
   "outputs": [
    {
     "name": "stdout",
     "output_type": "stream",
     "text": [
      "(5001,)\n",
      "(2701,)\n",
      "(2701, 5001)\n"
     ]
    },
    {
     "ename": "ValueError",
     "evalue": "When on a regular grid with x.size = m and y.size = n, if z.ndim == 2, then z must have shape (n, m)",
     "output_type": "error",
     "traceback": [
      "\u001b[0;31m---------------------------------------------------------------------------\u001b[0m",
      "\u001b[0;31mValueError\u001b[0m                                Traceback (most recent call last)",
      "\u001b[0;32m<ipython-input-21-c80e4e6ab8c8>\u001b[0m in \u001b[0;36m<module>\u001b[0;34m\u001b[0m\n\u001b[1;32m      2\u001b[0m \u001b[0;34m\u001b[0m\u001b[0m\n\u001b[1;32m      3\u001b[0m \u001b[0mmap_path\u001b[0m \u001b[0;34m=\u001b[0m \u001b[0;34m'../src/asc/MNT_MED100m_GDL-CA_HOMONIM_WGS84_NM_ZNEG.asc'\u001b[0m\u001b[0;34m\u001b[0m\u001b[0;34m\u001b[0m\u001b[0m\n\u001b[0;32m----> 4\u001b[0;31m \u001b[0mmap\u001b[0m \u001b[0;34m=\u001b[0m \u001b[0mBathy\u001b[0m\u001b[0;34m.\u001b[0m\u001b[0mMap\u001b[0m\u001b[0;34m.\u001b[0m\u001b[0mfrom_asc\u001b[0m\u001b[0;34m(\u001b[0m\u001b[0mmap_path\u001b[0m\u001b[0;34m)\u001b[0m\u001b[0;34m\u001b[0m\u001b[0;34m\u001b[0m\u001b[0m\n\u001b[0m",
      "\u001b[0;32m~/Documents/GitHub/ray-tracer/topography/bathymetry.py\u001b[0m in \u001b[0;36mfrom_asc\u001b[0;34m(cls, path)\u001b[0m\n\u001b[1;32m     57\u001b[0m         \u001b[0mmap\u001b[0m\u001b[0;34m[\u001b[0m\u001b[0mmap\u001b[0m\u001b[0;34m==\u001b[0m\u001b[0mheader\u001b[0m\u001b[0;34m[\u001b[0m\u001b[0;34m'NODATA_VALUE'\u001b[0m\u001b[0;34m]\u001b[0m\u001b[0;34m]\u001b[0m \u001b[0;34m=\u001b[0m \u001b[0mnp\u001b[0m\u001b[0;34m.\u001b[0m\u001b[0mnan\u001b[0m\u001b[0;34m\u001b[0m\u001b[0;34m\u001b[0m\u001b[0m\n\u001b[1;32m     58\u001b[0m \u001b[0;34m\u001b[0m\u001b[0m\n\u001b[0;32m---> 59\u001b[0;31m         \u001b[0;32mreturn\u001b[0m \u001b[0mcls\u001b[0m\u001b[0;34m(\u001b[0m\u001b[0mmap\u001b[0m\u001b[0;34m,\u001b[0m \u001b[0mheader\u001b[0m\u001b[0;34m[\u001b[0m\u001b[0;34m'XLLCORNER'\u001b[0m\u001b[0;34m]\u001b[0m\u001b[0;34m,\u001b[0m \u001b[0mheader\u001b[0m\u001b[0;34m[\u001b[0m\u001b[0;34m'YLLCORNER'\u001b[0m\u001b[0;34m]\u001b[0m\u001b[0;34m,\u001b[0m \u001b[0mheader\u001b[0m\u001b[0;34m[\u001b[0m\u001b[0;34m'CELLSIZE'\u001b[0m\u001b[0;34m]\u001b[0m\u001b[0;34m)\u001b[0m\u001b[0;34m\u001b[0m\u001b[0;34m\u001b[0m\u001b[0m\n\u001b[0m\u001b[1;32m     60\u001b[0m \u001b[0;34m\u001b[0m\u001b[0m\n\u001b[1;32m     61\u001b[0m     \u001b[0;32mdef\u001b[0m \u001b[0mcut\u001b[0m \u001b[0;34m(\u001b[0m\u001b[0mself\u001b[0m\u001b[0;34m,\u001b[0m \u001b[0mstart_lat\u001b[0m\u001b[0;34m,\u001b[0m \u001b[0mstart_long\u001b[0m\u001b[0;34m,\u001b[0m \u001b[0mstop_lat\u001b[0m\u001b[0;34m,\u001b[0m \u001b[0mstop_long\u001b[0m\u001b[0;34m,\u001b[0m \u001b[0mres\u001b[0m\u001b[0;34m)\u001b[0m\u001b[0;34m:\u001b[0m\u001b[0;34m\u001b[0m\u001b[0;34m\u001b[0m\u001b[0m\n",
      "\u001b[0;32m~/Documents/GitHub/ray-tracer/topography/bathymetry.py\u001b[0m in \u001b[0;36m__init__\u001b[0;34m(self, map, xllcorner, yllcorner, cellsize)\u001b[0m\n\u001b[1;32m     38\u001b[0m         \u001b[0mself\u001b[0m\u001b[0;34m.\u001b[0m\u001b[0mres\u001b[0m \u001b[0;34m=\u001b[0m \u001b[0mEARTH_RADIUS_AVG\u001b[0m \u001b[0;34m*\u001b[0m \u001b[0mself\u001b[0m\u001b[0;34m.\u001b[0m\u001b[0mcellsize\u001b[0m \u001b[0;34m/\u001b[0m \u001b[0;36m180\u001b[0m \u001b[0;34m*\u001b[0m \u001b[0mnp\u001b[0m\u001b[0;34m.\u001b[0m\u001b[0mpi\u001b[0m  \u001b[0;31m# Map resolution (in meters)\u001b[0m\u001b[0;34m\u001b[0m\u001b[0;34m\u001b[0m\u001b[0m\n\u001b[1;32m     39\u001b[0m \u001b[0;34m\u001b[0m\u001b[0m\n\u001b[0;32m---> 40\u001b[0;31m         \u001b[0mself\u001b[0m\u001b[0;34m.\u001b[0m\u001b[0mz\u001b[0m \u001b[0;34m=\u001b[0m \u001b[0minterpolate\u001b[0m\u001b[0;34m.\u001b[0m\u001b[0minterp2d\u001b[0m\u001b[0;34m(\u001b[0m\u001b[0mself\u001b[0m\u001b[0;34m.\u001b[0m\u001b[0m__y\u001b[0m\u001b[0;34m,\u001b[0m \u001b[0mself\u001b[0m\u001b[0;34m.\u001b[0m\u001b[0m__x\u001b[0m\u001b[0;34m,\u001b[0m \u001b[0mself\u001b[0m\u001b[0;34m.\u001b[0m\u001b[0m__z\u001b[0m\u001b[0;34m,\u001b[0m \u001b[0mkind\u001b[0m\u001b[0;34m=\u001b[0m\u001b[0;34m'linear'\u001b[0m\u001b[0;34m)\u001b[0m\u001b[0;34m\u001b[0m\u001b[0;34m\u001b[0m\u001b[0m\n\u001b[0m\u001b[1;32m     41\u001b[0m \u001b[0;34m\u001b[0m\u001b[0m\n\u001b[1;32m     42\u001b[0m     \u001b[0;34m@\u001b[0m\u001b[0mclassmethod\u001b[0m\u001b[0;34m\u001b[0m\u001b[0;34m\u001b[0m\u001b[0m\n",
      "\u001b[0;32m/Library/Frameworks/Python.framework/Versions/3.9/lib/python3.9/site-packages/scipy/interpolate/interpolate.py\u001b[0m in \u001b[0;36m__init__\u001b[0;34m(self, x, y, z, kind, copy, bounds_error, fill_value)\u001b[0m\n\u001b[1;32m    197\u001b[0m             \u001b[0;32mif\u001b[0m \u001b[0mz\u001b[0m\u001b[0;34m.\u001b[0m\u001b[0mndim\u001b[0m \u001b[0;34m==\u001b[0m \u001b[0;36m2\u001b[0m\u001b[0;34m:\u001b[0m\u001b[0;34m\u001b[0m\u001b[0;34m\u001b[0m\u001b[0m\n\u001b[1;32m    198\u001b[0m                 \u001b[0;32mif\u001b[0m \u001b[0mz\u001b[0m\u001b[0;34m.\u001b[0m\u001b[0mshape\u001b[0m \u001b[0;34m!=\u001b[0m \u001b[0;34m(\u001b[0m\u001b[0mlen\u001b[0m\u001b[0;34m(\u001b[0m\u001b[0my\u001b[0m\u001b[0;34m)\u001b[0m\u001b[0;34m,\u001b[0m \u001b[0mlen\u001b[0m\u001b[0;34m(\u001b[0m\u001b[0mx\u001b[0m\u001b[0;34m)\u001b[0m\u001b[0;34m)\u001b[0m\u001b[0;34m:\u001b[0m\u001b[0;34m\u001b[0m\u001b[0;34m\u001b[0m\u001b[0m\n\u001b[0;32m--> 199\u001b[0;31m                     raise ValueError(\"When on a regular grid with x.size = m \"\n\u001b[0m\u001b[1;32m    200\u001b[0m                                      \u001b[0;34m\"and y.size = n, if z.ndim == 2, then z \"\u001b[0m\u001b[0;34m\u001b[0m\u001b[0;34m\u001b[0m\u001b[0m\n\u001b[1;32m    201\u001b[0m                                      \"must have shape (n, m)\")\n",
      "\u001b[0;31mValueError\u001b[0m: When on a regular grid with x.size = m and y.size = n, if z.ndim == 2, then z must have shape (n, m)"
     ]
    }
   ],
   "source": [
    "reload(Bathy)\n",
    "\n",
    "map_path = '../src/asc/MNT_MED100m_GDL-CA_HOMONIM_WGS84_NM_ZNEG.asc'\n",
    "map = Bathy.Map.from_asc(map_path)"
   ]
  },
  {
   "cell_type": "code",
   "execution_count": 18,
   "metadata": {},
   "outputs": [],
   "source": [
    "# # Plot map\n",
    "# PLOT = np.empty((map.map.shape[0], map.map.shape[1], 3))\n",
    "\n",
    "# array = np.copy(map.map)\n",
    "# array[np.isnan(array)] = 0\n",
    "# array = np.abs(array) / np.amax(np.abs(array))\n",
    "\n",
    "# PLOT[:, :, 0] = np.ones(array.shape) - array\n",
    "# PLOT[:, :, 1] = np.ones(array.shape) - array\n",
    "# PLOT[:, :, 2] = np.ones(array.shape) - array\n",
    "\n",
    "# PLOT[np.isnan(map.map)] = [0.6, 0.3, 0]\n",
    "# plt.imshow(PLOT)"
   ]
  },
  {
   "cell_type": "code",
   "execution_count": 42,
   "metadata": {},
   "outputs": [
    {
     "name": "stdout",
     "output_type": "stream",
     "text": [
      "[           nan            nan            nan            nan\n",
      "  -237.24194835  -493.0578122  -1429.51773024 -1819.23064208\n",
      " -2146.52290705 -2243.54562106 -2354.45274902 -2456.54207739\n",
      " -2536.78333992 -2534.28501725 -2540.1463538  -2517.51924243\n",
      " -2490.2740384  -2483.55440871 -2417.77948035 -2465.67408053\n",
      " -2370.5241465  -2428.8527066  -2420.16561503 -2493.15413567\n",
      " -2486.31796619 -2525.8758135  -2532.44042351 -2562.39939207\n",
      " -2580.51164983 -2620.34563973 -2604.26110757 -2622.80416831\n",
      " -2639.26944553 -2645.45079014 -2677.70337234 -2679.53082357\n",
      " -2691.38874134 -2705.45781526 -2709.28393508 -2730.97867947\n",
      " -2744.7404213  -2751.17513912 -2759.20898297 -2779.79610166\n",
      " -2821.89244421 -2843.90411353 -2839.54840586 -2824.80607129\n",
      " -2808.66763173 -2797.35825033 -2791.41266038 -2787.44096103\n",
      " -2787.21708559 -2772.13011877 -2752.50641691 -2747.6\n",
      " -2747.6        -2747.6        -2747.6        -2747.6\n",
      " -2747.6        -2747.6        -2747.6        -2747.6\n",
      " -2747.6        -2747.6        -2747.6        -2747.6\n",
      " -2747.6        -2747.6        -2747.6        -2747.6\n",
      " -2747.6        -2747.6        -2747.6        -2747.6\n",
      " -2747.6        -2747.6        -2747.6        -2747.6\n",
      " -2747.6        -2747.6        -2747.6        -2747.6\n",
      " -2747.6        -2747.6        -2747.6        -2747.6\n",
      " -2747.6        -2747.6        -2747.6        -2747.6\n",
      " -2747.6        -2747.6        -2747.6        -2747.6\n",
      " -2747.6        -2747.6        -2747.6        -2747.6       ]\n"
     ]
    }
   ],
   "source": [
    "# SLERP\n",
    "\n",
    "EARTH_RADIUS_AVG = 6378000\n",
    "NPOINTS = 100\n",
    "\n",
    "P0_rad = map.llcorner_rad\n",
    "P1_rad = map.urcorner_rad\n",
    "theta_rad = np.arccos(P0_rad.dot(P1_rad) / (EARTH_RADIUS_AVG**2))\n",
    "\n",
    "points = np.linspace(0, 1, NPOINTS)\n",
    "u = np.sin(theta_rad * (1 - points))\n",
    "v = np.sin(theta_rad * points)\n",
    "\n",
    "P = (P0_rad * np.tile(u,(2,1)).T + P1_rad * np.tile(v,(2,1)).T) / np.sin(theta_rad)\n",
    "phi = P[:, 0]\n",
    "theta = P[:, 1]\n",
    "\n",
    "# plt.figure(figsize=(10, 10))\n",
    "# plt.plot(phi, theta)\n",
    "# Plot on unit sphere\n",
    "# rad = 1\n",
    "# x = rad * np.sin(phi) * np.cos(theta)\n",
    "# y = rad * np.sin(phi) * np.sin(theta)\n",
    "# z = rad * np.cos(phi)\n",
    "# from mpl_toolkits import mplot3d\n",
    "# fig = plt.figure(figsize=(15, 10))\n",
    "# ax = plt.axes(projection='3d')\n",
    "# ax.scatter3D(x, y, z)\n",
    "# ax.set_xlim((-1, 1))\n",
    "# ax.set_ylim((-1, 1))\n",
    "# ax.set_zlim((-1, 1))\n",
    "\n",
    "z_map = np.diagonal( map.z(phi, theta) )  # assume_sorted=True\n",
    "print(z_map)"
   ]
  },
  {
   "cell_type": "code",
   "execution_count": null,
   "metadata": {},
   "outputs": [],
   "source": []
  }
 ],
 "metadata": {
  "kernelspec": {
   "display_name": "Python 3.9.0 64-bit",
   "language": "python",
   "name": "python3"
  },
  "language_info": {
   "codemirror_mode": {
    "name": "ipython",
    "version": 3
   },
   "file_extension": ".py",
   "mimetype": "text/x-python",
   "name": "python",
   "nbconvert_exporter": "python",
   "pygments_lexer": "ipython3",
   "version": "3.9.0"
  },
  "orig_nbformat": 4,
  "vscode": {
   "interpreter": {
    "hash": "397704579725e15f5c7cb49fe5f0341eb7531c82d19f2c29d197e8b64ab5776b"
   }
  }
 },
 "nbformat": 4,
 "nbformat_minor": 2
}
