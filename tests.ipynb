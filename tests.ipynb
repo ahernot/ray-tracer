{
 "cells": [
  {
   "cell_type": "code",
   "execution_count": 10,
   "metadata": {},
   "outputs": [],
   "source": [
    "import numpy as np\n",
    "from scipy import interpolate\n",
    "from scipy.io import wavfile\n",
    "\n",
    "import matplotlib.pyplot as plt\n",
    "# from matplotlib import cm as colormaps\n",
    "\n",
    "from importlib import reload\n",
    "\n",
    "from topography import bathymetry as Bathy\n",
    "import environment as Env\n",
    "import ray as Ray\n",
    "import simulation as Sim"
   ]
  },
  {
   "cell_type": "code",
   "execution_count": 11,
   "metadata": {},
   "outputs": [],
   "source": [
    "reload(Bathy)\n",
    "\n",
    "map_path = 'src/asc/MNT_MED100m_GDL-CA_HOMONIM_WGS84_NM_ZNEG.asc'\n",
    "map = Bathy.Map.from_asc(map_path)"
   ]
  },
  {
   "cell_type": "code",
   "execution_count": null,
   "metadata": {},
   "outputs": [],
   "source": [
    "start = (2.8995, 41.6995)  # lower left\n",
    "stop = (7.9005, 41.6995)  # lower right\n",
    "\n",
    "x, z = map.cut(start, stop, npoints=100)\n",
    "floor = interpolate.interp1d(x, z)\n",
    "\n",
    "margin_x = 0\n",
    "margin_z = 0\n",
    "range_min = np.array([x[0] - margin_x, np.min(z) - margin_z])\n",
    "range_max = np.array([x[-1] + margin_x, 0 + margin_z])\n",
    "\n",
    "ceiling = lambda x: 0 * np.ones_like(x)"
   ]
  },
  {
   "cell_type": "code",
   "execution_count": null,
   "metadata": {},
   "outputs": [],
   "source": [
    "# floor = lambda x: -5000 * np.ones_like(x)"
   ]
  },
  {
   "cell_type": "code",
   "execution_count": null,
   "metadata": {},
   "outputs": [
    {
     "ename": "AttributeError",
     "evalue": "'Environment2D' object has no attribute 'penv'",
     "output_type": "error",
     "traceback": [
      "\u001b[0;31m---------------------------------------------------------------------------\u001b[0m",
      "\u001b[0;31mAttributeError\u001b[0m                            Traceback (most recent call last)",
      "\u001b[0;32m<ipython-input-9-9e179ef5f68c>\u001b[0m in \u001b[0;36m<module>\u001b[0;34m\u001b[0m\n\u001b[1;32m      6\u001b[0m \u001b[0mtarget\u001b[0m \u001b[0;34m=\u001b[0m \u001b[0mnp\u001b[0m\u001b[0;34m.\u001b[0m\u001b[0marray\u001b[0m\u001b[0;34m(\u001b[0m\u001b[0;34m[\u001b[0m\u001b[0;36m3500\u001b[0m\u001b[0;34m,\u001b[0m \u001b[0;34m-\u001b[0m\u001b[0;36m1000\u001b[0m\u001b[0;34m]\u001b[0m\u001b[0;34m)\u001b[0m\u001b[0;34m\u001b[0m\u001b[0;34m\u001b[0m\u001b[0m\n\u001b[1;32m      7\u001b[0m \u001b[0;34m\u001b[0m\u001b[0m\n\u001b[0;32m----> 8\u001b[0;31m \u001b[0menv\u001b[0m \u001b[0;34m=\u001b[0m \u001b[0mEnv\u001b[0m\u001b[0;34m.\u001b[0m\u001b[0mEnvironment2D\u001b[0m \u001b[0;34m(\u001b[0m\u001b[0mfloor\u001b[0m\u001b[0;34m,\u001b[0m \u001b[0mceiling\u001b[0m\u001b[0;34m,\u001b[0m \u001b[0mrange_min\u001b[0m\u001b[0;34m,\u001b[0m \u001b[0mrange_max\u001b[0m\u001b[0;34m)\u001b[0m\u001b[0;34m\u001b[0m\u001b[0;34m\u001b[0m\u001b[0m\n\u001b[0m\u001b[1;32m      9\u001b[0m \u001b[0;34m\u001b[0m\u001b[0m\n\u001b[1;32m     10\u001b[0m sim = Sim.EigenraySim2D (\n",
      "\u001b[0;32m~/Documents/GitHub/ray-tracer/environment.py\u001b[0m in \u001b[0;36m__init__\u001b[0;34m(self, floor, ceiling, range_min, range_max, **kwargs)\u001b[0m\n\u001b[1;32m     33\u001b[0m         \u001b[0mself\u001b[0m\u001b[0;34m.\u001b[0m\u001b[0mfloor\u001b[0m \u001b[0;34m=\u001b[0m \u001b[0mfloor\u001b[0m\u001b[0;34m\u001b[0m\u001b[0;34m\u001b[0m\u001b[0m\n\u001b[1;32m     34\u001b[0m         \u001b[0mself\u001b[0m\u001b[0;34m.\u001b[0m\u001b[0mceil\u001b[0m \u001b[0;34m=\u001b[0m \u001b[0mceiling\u001b[0m\u001b[0;34m\u001b[0m\u001b[0;34m\u001b[0m\u001b[0m\n\u001b[0;32m---> 35\u001b[0;31m         \u001b[0mself\u001b[0m\u001b[0;34m.\u001b[0m\u001b[0m__floor_sampled\u001b[0m \u001b[0;34m=\u001b[0m \u001b[0mself\u001b[0m\u001b[0;34m.\u001b[0m\u001b[0mfloor\u001b[0m\u001b[0;34m(\u001b[0m\u001b[0mself\u001b[0m\u001b[0;34m.\u001b[0m\u001b[0mpenv\u001b[0m\u001b[0;34m.\u001b[0m\u001b[0mx\u001b[0m\u001b[0;34m)\u001b[0m\u001b[0;34m\u001b[0m\u001b[0;34m\u001b[0m\u001b[0m\n\u001b[0m\u001b[1;32m     36\u001b[0m         \u001b[0mself\u001b[0m\u001b[0;34m.\u001b[0m\u001b[0m__ceil_sampled\u001b[0m \u001b[0;34m=\u001b[0m \u001b[0mself\u001b[0m\u001b[0;34m.\u001b[0m\u001b[0mceil\u001b[0m\u001b[0;34m(\u001b[0m\u001b[0mself\u001b[0m\u001b[0;34m.\u001b[0m\u001b[0mpenv\u001b[0m\u001b[0;34m.\u001b[0m\u001b[0mx\u001b[0m\u001b[0;34m)\u001b[0m\u001b[0;34m\u001b[0m\u001b[0;34m\u001b[0m\u001b[0m\n\u001b[1;32m     37\u001b[0m         \u001b[0mself\u001b[0m\u001b[0;34m.\u001b[0m\u001b[0m__dx_floor_sampled\u001b[0m \u001b[0;34m=\u001b[0m \u001b[0mnp\u001b[0m\u001b[0;34m.\u001b[0m\u001b[0mgradient\u001b[0m\u001b[0;34m(\u001b[0m\u001b[0mself\u001b[0m\u001b[0;34m.\u001b[0m\u001b[0m__floor_sampled\u001b[0m\u001b[0;34m)\u001b[0m \u001b[0;34m/\u001b[0m \u001b[0mself\u001b[0m\u001b[0;34m.\u001b[0m\u001b[0mres_x\u001b[0m\u001b[0;34m\u001b[0m\u001b[0;34m\u001b[0m\u001b[0m\n",
      "\u001b[0;31mAttributeError\u001b[0m: 'Environment2D' object has no attribute 'penv'"
     ]
    }
   ],
   "source": [
    "reload(Ray)\n",
    "reload(Env)\n",
    "reload(Sim)\n",
    "\n",
    "source = np.array([0., 0.])\n",
    "target = np.array([3500, -1000])\n",
    "\n",
    "env = Env.Environment2D (floor, ceiling, range_min, range_max)\n",
    "\n",
    "sim = Sim.EigenraySim2D (\n",
    "    env, source, target,\n",
    "    dx_max=50, dz_max=25, backprop=False, n_rebounds_max=6,\n",
    "    n_rays_scan=1000, n_rays=25, scan_angle_min=-1.5, scan_angle_max=1.5,\n",
    "    verbose=True, verbose_depth_max=0\n",
    ")\n",
    "\n",
    "sim.refine(n_rays=20, cone_half_angle=0.01)  # Initial refine (empirical: cone_half_angle = 10/n_rays_scan)\n",
    "sim.refine(iterations=5)"
   ]
  },
  {
   "cell_type": "code",
   "execution_count": null,
   "metadata": {},
   "outputs": [],
   "source": [
    "### EIGENSIM TESTS ###\n",
    "\n",
    "figsize = (100, 30)\n",
    "\n",
    "# fig = plt.figure(figsize=figsize)\n",
    "# sim.plot(fig, pack='__iter0-scan')\n",
    "# plt.scatter((source[0], target[0]), (source[1], target[1]), figure=fig, c='red', s=1000)\n",
    "# plt.title(f'Scanning rays')\n",
    "# plt.show(fig)\n",
    "\n",
    "fig = plt.figure(figsize=figsize)\n",
    "sim.plot(fig, pack=sim.pack_scan, c='black')\n",
    "plt.scatter((source[0], target[0]), (source[1], target[1]), figure=fig, c='red', s=1000)\n",
    "plt.title(f'Scan output')\n",
    "plt.show(fig)\n",
    "\n",
    "for rid in range(1, sim.n_refines+1):\n",
    "    fig = plt.figure(figsize=figsize)\n",
    "    sim.plot(fig, pack=sim.gen_pack_refine(rid), c='black')\n",
    "    plt.scatter((source[0], target[0]), (source[1], target[1]), figure=fig, c='red', s=1000)\n",
    "    plt.title(f'Refine {rid}')\n",
    "    plt.show(fig)"
   ]
  },
  {
   "cell_type": "code",
   "execution_count": 67,
   "metadata": {},
   "outputs": [],
   "source": [
    "path_in = 'src/wav/sig-test.wav'\n",
    "sample_rate, signal = wavfile.read(path_in)\n",
    "signal = signal[:, 0]"
   ]
  },
  {
   "cell_type": "code",
   "execution_count": null,
   "metadata": {},
   "outputs": [],
   "source": [
    "freqs = np.linspace(0, 24000, 100)\n",
    "filter = sim.get_filter (*freqs)"
   ]
  },
  {
   "cell_type": "code",
   "execution_count": 68,
   "metadata": {},
   "outputs": [],
   "source": [
    "sample_rate, signal_filtered = filter(sample_rate, signal)\n",
    "signal_filtered = signal_filtered.astype(signal.dtype)\n",
    "\n",
    "path_out = 'out/sig-test-filtered.wav'\n",
    "wavfile.write(path_out, sample_rate, signal_filtered.astype(np.int16))"
   ]
  },
  {
   "cell_type": "code",
   "execution_count": null,
   "metadata": {},
   "outputs": [],
   "source": []
  }
 ],
 "metadata": {
  "kernelspec": {
   "display_name": "Python 3.9.0 64-bit",
   "language": "python",
   "name": "python3"
  },
  "language_info": {
   "codemirror_mode": {
    "name": "ipython",
    "version": 3
   },
   "file_extension": ".py",
   "mimetype": "text/x-python",
   "name": "python",
   "nbconvert_exporter": "python",
   "pygments_lexer": "ipython3",
   "version": "3.9.0"
  },
  "orig_nbformat": 4,
  "vscode": {
   "interpreter": {
    "hash": "397704579725e15f5c7cb49fe5f0341eb7531c82d19f2c29d197e8b64ab5776b"
   }
  }
 },
 "nbformat": 4,
 "nbformat_minor": 2
}
