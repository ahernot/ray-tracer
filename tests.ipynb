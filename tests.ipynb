{
 "cells": [
  {
   "cell_type": "code",
   "execution_count": 1,
   "metadata": {},
   "outputs": [],
   "source": [
    "import numpy as np\n",
    "import matplotlib.pyplot as plt\n",
    "# from matplotlib import cm as colormaps\n",
    "from scipy import interpolate\n",
    "\n",
    "from importlib import reload\n",
    "\n",
    "import environment as Env\n",
    "import ray as Ray\n",
    "import simulation as Sim\n",
    "\n",
    "from topography import bathymetry as Bathy"
   ]
  },
  {
   "cell_type": "code",
   "execution_count": 2,
   "metadata": {},
   "outputs": [],
   "source": [
    "reload(Bathy)\n",
    "\n",
    "map_path = 'src/asc/MNT_MED100m_GDL-CA_HOMONIM_WGS84_NM_ZNEG.asc'\n",
    "map = Bathy.Map.from_asc(map_path)"
   ]
  },
  {
   "cell_type": "code",
   "execution_count": 3,
   "metadata": {},
   "outputs": [],
   "source": [
    "start = (2.8995, 41.6995)  # lower left\n",
    "stop = (7.9005, 41.6995)  # lower right\n",
    "\n",
    "x, z = map.cut(start, stop, npoints=100)\n",
    "floor = interpolate.interp1d(x, z)\n",
    "\n",
    "ceiling = lambda x: 0 * np.ones_like(x)"
   ]
  },
  {
   "cell_type": "code",
   "execution_count": 45,
   "metadata": {},
   "outputs": [
    {
     "name": "stdout",
     "output_type": "stream",
     "text": [
      "EigenraySim2D: Scanning using 1000 rays between angles -1.5 and 1.5\n",
      "EigenraySim2D: Scan mean distance: 7.048640431018566\n",
      "EigenraySim2D: Refine #1 mean distance: 0.9467889555897727\n",
      "EigenraySim2D: Refine #2 mean distance: 0.43452913625601924\n",
      "EigenraySim2D: Refine #3 mean distance: 0.1887311825188499\n",
      "EigenraySim2D: Refine #4 mean distance: 0.0580425925032614\n",
      "EigenraySim2D: Target precision reached\n"
     ]
    }
   ],
   "source": [
    "reload(Ray)\n",
    "reload(Env)\n",
    "reload(Sim)\n",
    "\n",
    "source = np.array([0., 0.])\n",
    "target = np.array([3500, -1000])\n",
    "\n",
    "env = Env.Environment2D (floor, ceiling)\n",
    "\n",
    "sim = Sim.EigenraySim2D (\n",
    "    env, source, target,\n",
    "    dx_max=50, dz_max=25, backprop=False, n_rebounds_max=6,\n",
    "    n_rays_scan=1000, n_rays=25, scan_angle_min=-1.5, scan_angle_max=1.5,\n",
    "    verbose=True, verbose_depth_max=0\n",
    ")\n",
    "\n",
    "sim.refine(n_rays=20, cone_half_angle=0.01)  # Initial refine (empirical: cone_half_angle = 10/n_rays_scan)\n",
    "sim.refine(iterations=5)"
   ]
  },
  {
   "cell_type": "code",
   "execution_count": 58,
   "metadata": {},
   "outputs": [],
   "source": [
    "from scipy.io import wavfile\n",
    "\n",
    "sample_rate, signal = wavfile.read('src/wav/sig-test.wav')\n",
    "signal = signal[:, 0]"
   ]
  },
  {
   "cell_type": "code",
   "execution_count": 59,
   "metadata": {},
   "outputs": [],
   "source": [
    "freqs = np.linspace(0, 24000, 100)\n",
    "filter = sim.get_filter (*freqs)\n",
    "\n",
    "sample_rate, signal_filtered = filter(sample_rate, signal)\n",
    "signal_filtered = signal_filtered.astype(signal.dtype)\n",
    "wavfile.write('src/wav/sig-test-filtered.wav', sample_rate, signal_filtered.astype(np.int16))"
   ]
  },
  {
   "cell_type": "code",
   "execution_count": null,
   "metadata": {},
   "outputs": [],
   "source": []
  }
 ],
 "metadata": {
  "kernelspec": {
   "display_name": "Python 3.9.0 64-bit",
   "language": "python",
   "name": "python3"
  },
  "language_info": {
   "codemirror_mode": {
    "name": "ipython",
    "version": 3
   },
   "file_extension": ".py",
   "mimetype": "text/x-python",
   "name": "python",
   "nbconvert_exporter": "python",
   "pygments_lexer": "ipython3",
   "version": "3.9.0"
  },
  "orig_nbformat": 4,
  "vscode": {
   "interpreter": {
    "hash": "397704579725e15f5c7cb49fe5f0341eb7531c82d19f2c29d197e8b64ab5776b"
   }
  }
 },
 "nbformat": 4,
 "nbformat_minor": 2
}
