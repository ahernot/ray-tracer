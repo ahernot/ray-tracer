{
 "cells": [
  {
   "cell_type": "code",
   "execution_count": 46,
   "metadata": {},
   "outputs": [],
   "source": [
    "import multiprocessing\n",
    "from multiprocessing import Process\n",
    "import numpy as np\n",
    "\n",
    "n_cores = multiprocessing.cpu_count()"
   ]
  },
  {
   "cell_type": "code",
   "execution_count": 26,
   "metadata": {},
   "outputs": [],
   "source": [
    "def bubble_sort(array):\n",
    "    check = True\n",
    "    while check == True:\n",
    "      check = False\n",
    "      for i in range(0, len(array)-1):\n",
    "        if array[i] > array[i+1]:\n",
    "          check = True\n",
    "          temp = array[i]\n",
    "          array[i] = array[i+1]\n",
    "          array[i+1] = temp\n",
    "    # print(\"Array sorted: \", array)\n",
    "    return arr\n"
   ]
  },
  {
   "cell_type": "code",
   "execution_count": 55,
   "metadata": {},
   "outputs": [],
   "source": [
    "n = 1000\n",
    "arrs = [np.random.randint(0, n, (n,)) for i in range(10)]  # 10 arrays of n values each"
   ]
  },
  {
   "cell_type": "code",
   "execution_count": 56,
   "metadata": {},
   "outputs": [
    {
     "name": "stdout",
     "output_type": "stream",
     "text": [
      "Process finished in 4.245682001113892 seconds\n"
     ]
    }
   ],
   "source": [
    "import time\n",
    "t1 = time.time()\n",
    "for arr in arrs:\n",
    "    bubble_sort(arr)\n",
    "t2 = time.time()\n",
    "\n",
    "print(f'Process finished in {t2-t1} seconds')"
   ]
  },
  {
   "cell_type": "code",
   "execution_count": 61,
   "metadata": {},
   "outputs": [
    {
     "name": "stdout",
     "output_type": "stream",
     "text": [
      "Process finished in 0.38080620765686035 seconds\n"
     ]
    }
   ],
   "source": [
    "# p = Process(target=bubble_sort, args=arrs)\n",
    "processes = [multiprocessing.Process(target=bubble_sort, args=(arr,)) for arr in arrs]  #! faster\n",
    "\n",
    "t1 = time.time()\n",
    "# Start all processes\n",
    "for p in processes:\n",
    "    p.start()\n",
    "# Wait for all processes to finish\n",
    "for p in processes:\n",
    "    p.join()\n",
    "t2 = time.time()\n",
    "print(f'Process finished in {t2-t1} seconds')"
   ]
  },
  {
   "cell_type": "code",
   "execution_count": null,
   "metadata": {},
   "outputs": [],
   "source": [
    "t1 = time.time()\n",
    "with multiprocessing.Pool() as pool:\n",
    "    results = pool.map(bubble_sort, arrs)  # TODO: pool.starmap if multiple arguments\n",
    "t2 = time.time()\n",
    "print(f'Process finished in {t2-t1} seconds')"
   ]
  },
  {
   "cell_type": "code",
   "execution_count": null,
   "metadata": {},
   "outputs": [],
   "source": []
  }
 ],
 "metadata": {
  "kernelspec": {
   "display_name": "Python 3",
   "language": "python",
   "name": "python3"
  },
  "language_info": {
   "codemirror_mode": {
    "name": "ipython",
    "version": 3
   },
   "file_extension": ".py",
   "mimetype": "text/x-python",
   "name": "python",
   "nbconvert_exporter": "python",
   "pygments_lexer": "ipython3",
   "version": "3.9.0"
  }
 },
 "nbformat": 4,
 "nbformat_minor": 2
}
