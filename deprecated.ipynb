{
 "cells": [
  {
   "cell_type": "code",
   "execution_count": null,
   "metadata": {},
   "outputs": [],
   "source": []
  },
  {
   "cell_type": "code",
   "execution_count": null,
   "metadata": {},
   "outputs": [],
   "source": [
    "### PLOT RAY ###\n",
    "\n",
    "# plt.figure(figsize=(50, 2))\n",
    "# plt.plot(ray.XZ[1:,0], ray.dL)\n",
    "# plt.xlim((0, 50000))\n",
    "# plt.xlabel('x [m]')\n",
    "# plt.ylabel('dL [m]')\n",
    "# plt.title('Integration segment length over the ray\\'s trajectory')\n",
    "# plt.show()\n",
    "\n",
    "# plt.figure(figsize=(50, 2))\n",
    "# plt.plot(ray.XZ[:,0], ray.A_dB)\n",
    "# plt.xlim((0, 50000))\n",
    "# plt.xlabel('x [m]')\n",
    "# plt.ylabel('A [dB]')\n",
    "# plt.title('Sound absorption over the ray\\'s trajectory')\n",
    "# plt.show()\n",
    "\n",
    "# plt.figure(figsize=(50, 2))\n",
    "# plt.plot(ray.XZ[:,0], ray.XZ[:,1])\n",
    "# plt.plot(ray.XZ[:,0], ceiling(ray.XZ[:,0]), c='red')\n",
    "# plt.plot(ray.XZ[:,0], floor(ray.XZ[:,0]), c='red')\n",
    "# # plt.xlim((env.range_min.x, env.range_max.x))\n",
    "# # plt.ylim((env.range_min.z, env.range_max.z))\n",
    "# plt.xlim((0, 50000))\n",
    "# plt.ylim((-2000, 0))\n",
    "# plt.xlabel('x [m]')\n",
    "# plt.ylabel('z [m]')\n",
    "# plt.title('Ray trajectory')\n",
    "# plt.show()\n",
    "\n",
    "# plt.figure(figsize=(50, 2))\n",
    "# plt.scatter(ray.XZ[:,0], ray.XZ[:,1], c=ray.A_dB, cmap=colormaps.Blues_r)\n",
    "# plt.plot(ray.XZ[:,0], ceiling(ray.XZ[:,0]), c='red')\n",
    "# plt.plot(ray.XZ[:,0], floor(ray.XZ[:,0]), c='red')\n",
    "# # plt.xlim((env.range_min.x, env.range_max.x))\n",
    "# # plt.ylim((env.range_min.z, env.range_max.z))\n",
    "# plt.xlim((0, 50000))\n",
    "# plt.ylim((-2000, 0))\n",
    "# plt.xlabel('x [m]')\n",
    "# plt.ylabel('z [m]')\n",
    "# plt.title('Ray trajectory with intensity (log scale)')\n",
    "# plt.show()"
   ]
  }
 ],
 "metadata": {
  "kernelspec": {
   "display_name": "Python 3.9.0 64-bit",
   "language": "python",
   "name": "python3"
  },
  "language_info": {
   "name": "python",
   "version": "3.9.0"
  },
  "orig_nbformat": 4,
  "vscode": {
   "interpreter": {
    "hash": "397704579725e15f5c7cb49fe5f0341eb7531c82d19f2c29d197e8b64ab5776b"
   }
  }
 },
 "nbformat": 4,
 "nbformat_minor": 2
}
